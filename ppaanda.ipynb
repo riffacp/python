{
 "cells": [
  {
   "cell_type": "code",
   "execution_count": 1,
   "metadata": {},
   "outputs": [
    {
     "name": "stdout",
     "output_type": "stream",
     "text": [
      "Collecting pandas\n",
      "  Downloading pandas-2.2.2-cp311-cp311-win_amd64.whl.metadata (19 kB)\n",
      "Requirement already satisfied: numpy>=1.23.2 in c:\\users\\hp\\appdata\\local\\packages\\pythonsoftwarefoundation.python.3.11_qbz5n2kfra8p0\\localcache\\local-packages\\python311\\site-packages (from pandas) (1.26.4)\n",
      "Requirement already satisfied: python-dateutil>=2.8.2 in c:\\users\\hp\\appdata\\local\\packages\\pythonsoftwarefoundation.python.3.11_qbz5n2kfra8p0\\localcache\\local-packages\\python311\\site-packages (from pandas) (2.9.0.post0)\n",
      "Collecting pytz>=2020.1 (from pandas)\n",
      "  Downloading pytz-2024.1-py2.py3-none-any.whl.metadata (22 kB)\n",
      "Collecting tzdata>=2022.7 (from pandas)\n",
      "  Downloading tzdata-2024.1-py2.py3-none-any.whl.metadata (1.4 kB)\n",
      "Requirement already satisfied: six>=1.5 in c:\\users\\hp\\appdata\\local\\packages\\pythonsoftwarefoundation.python.3.11_qbz5n2kfra8p0\\localcache\\local-packages\\python311\\site-packages (from python-dateutil>=2.8.2->pandas) (1.16.0)\n",
      "Downloading pandas-2.2.2-cp311-cp311-win_amd64.whl (11.6 MB)\n",
      "   ---------------------------------------- 0.0/11.6 MB ? eta -:--:--\n",
      "   ---------------------------------------- 0.0/11.6 MB 1.4 MB/s eta 0:00:09\n",
      "   ---------------------------------------- 0.1/11.6 MB 1.7 MB/s eta 0:00:08\n",
      "   ---------------------------------------- 0.1/11.6 MB 919.0 kB/s eta 0:00:13\n",
      "    --------------------------------------- 0.2/11.6 MB 1.5 MB/s eta 0:00:08\n",
      "   - -------------------------------------- 0.3/11.6 MB 1.8 MB/s eta 0:00:07\n",
      "   -- ------------------------------------- 0.7/11.6 MB 3.1 MB/s eta 0:00:04\n",
      "   --- ------------------------------------ 0.9/11.6 MB 3.3 MB/s eta 0:00:04\n",
      "   --- ------------------------------------ 0.9/11.6 MB 3.2 MB/s eta 0:00:04\n",
      "   ---- ----------------------------------- 1.2/11.6 MB 3.4 MB/s eta 0:00:04\n",
      "   ---- ----------------------------------- 1.4/11.6 MB 3.6 MB/s eta 0:00:03\n",
      "   ----- ---------------------------------- 1.6/11.6 MB 3.7 MB/s eta 0:00:03\n",
      "   ------ --------------------------------- 1.8/11.6 MB 3.6 MB/s eta 0:00:03\n",
      "   ------ --------------------------------- 1.9/11.6 MB 3.6 MB/s eta 0:00:03\n",
      "   ------- -------------------------------- 2.0/11.6 MB 3.5 MB/s eta 0:00:03\n",
      "   ------- -------------------------------- 2.1/11.6 MB 3.5 MB/s eta 0:00:03\n",
      "   ------- -------------------------------- 2.2/11.6 MB 3.3 MB/s eta 0:00:03\n",
      "   -------- ------------------------------- 2.3/11.6 MB 3.3 MB/s eta 0:00:03\n",
      "   -------- ------------------------------- 2.5/11.6 MB 3.3 MB/s eta 0:00:03\n",
      "   -------- ------------------------------- 2.5/11.6 MB 3.1 MB/s eta 0:00:03\n",
      "   --------- ------------------------------ 2.7/11.6 MB 3.2 MB/s eta 0:00:03\n",
      "   --------- ------------------------------ 2.8/11.6 MB 3.2 MB/s eta 0:00:03\n",
      "   ---------- ----------------------------- 3.0/11.6 MB 3.2 MB/s eta 0:00:03\n",
      "   ---------- ----------------------------- 3.1/11.6 MB 3.3 MB/s eta 0:00:03\n",
      "   ----------- ---------------------------- 3.3/11.6 MB 3.2 MB/s eta 0:00:03\n",
      "   ----------- ---------------------------- 3.4/11.6 MB 3.2 MB/s eta 0:00:03\n",
      "   ------------ --------------------------- 3.5/11.6 MB 3.2 MB/s eta 0:00:03\n",
      "   ------------ --------------------------- 3.7/11.6 MB 3.2 MB/s eta 0:00:03\n",
      "   ------------- -------------------------- 3.8/11.6 MB 3.2 MB/s eta 0:00:03\n",
      "   ------------- -------------------------- 3.9/11.6 MB 3.2 MB/s eta 0:00:03\n",
      "   -------------- ------------------------- 4.2/11.6 MB 3.2 MB/s eta 0:00:03\n",
      "   -------------- ------------------------- 4.3/11.6 MB 3.2 MB/s eta 0:00:03\n",
      "   --------------- ------------------------ 4.5/11.6 MB 3.3 MB/s eta 0:00:03\n",
      "   ---------------- ----------------------- 4.7/11.6 MB 3.3 MB/s eta 0:00:03\n",
      "   ---------------- ----------------------- 4.8/11.6 MB 3.3 MB/s eta 0:00:03\n",
      "   ----------------- ---------------------- 5.0/11.6 MB 3.3 MB/s eta 0:00:03\n",
      "   ----------------- ---------------------- 5.1/11.6 MB 3.3 MB/s eta 0:00:02\n",
      "   ------------------ --------------------- 5.3/11.6 MB 3.3 MB/s eta 0:00:02\n",
      "   ------------------- -------------------- 5.6/11.6 MB 3.3 MB/s eta 0:00:02\n",
      "   ------------------- -------------------- 5.7/11.6 MB 3.4 MB/s eta 0:00:02\n",
      "   -------------------- ------------------- 5.9/11.6 MB 3.4 MB/s eta 0:00:02\n",
      "   -------------------- ------------------- 6.1/11.6 MB 3.4 MB/s eta 0:00:02\n",
      "   --------------------- ------------------ 6.3/11.6 MB 3.4 MB/s eta 0:00:02\n",
      "   ---------------------- ----------------- 6.4/11.6 MB 3.4 MB/s eta 0:00:02\n",
      "   ---------------------- ----------------- 6.5/11.6 MB 3.4 MB/s eta 0:00:02\n",
      "   ----------------------- ---------------- 6.7/11.6 MB 3.4 MB/s eta 0:00:02\n",
      "   ----------------------- ---------------- 6.9/11.6 MB 3.4 MB/s eta 0:00:02\n",
      "   ------------------------ --------------- 7.0/11.6 MB 3.4 MB/s eta 0:00:02\n",
      "   ------------------------ --------------- 7.2/11.6 MB 3.4 MB/s eta 0:00:02\n",
      "   ------------------------- -------------- 7.3/11.6 MB 3.4 MB/s eta 0:00:02\n",
      "   ------------------------- -------------- 7.4/11.6 MB 3.4 MB/s eta 0:00:02\n",
      "   -------------------------- ------------- 7.6/11.6 MB 3.4 MB/s eta 0:00:02\n",
      "   -------------------------- ------------- 7.8/11.6 MB 3.4 MB/s eta 0:00:02\n",
      "   --------------------------- ------------ 7.9/11.6 MB 3.4 MB/s eta 0:00:02\n",
      "   ---------------------------- ----------- 8.2/11.6 MB 3.4 MB/s eta 0:00:02\n",
      "   ---------------------------- ----------- 8.2/11.6 MB 3.4 MB/s eta 0:00:01\n",
      "   ---------------------------- ----------- 8.4/11.6 MB 3.4 MB/s eta 0:00:01\n",
      "   ----------------------------- ---------- 8.6/11.6 MB 3.4 MB/s eta 0:00:01\n",
      "   ------------------------------ --------- 8.8/11.6 MB 3.5 MB/s eta 0:00:01\n",
      "   ------------------------------ --------- 8.9/11.6 MB 3.4 MB/s eta 0:00:01\n",
      "   ------------------------------- -------- 9.0/11.6 MB 3.5 MB/s eta 0:00:01\n",
      "   ------------------------------- -------- 9.2/11.6 MB 3.4 MB/s eta 0:00:01\n",
      "   -------------------------------- ------- 9.4/11.6 MB 3.5 MB/s eta 0:00:01\n",
      "   -------------------------------- ------- 9.5/11.6 MB 3.5 MB/s eta 0:00:01\n",
      "   --------------------------------- ------ 9.7/11.6 MB 3.5 MB/s eta 0:00:01\n",
      "   --------------------------------- ------ 9.9/11.6 MB 3.5 MB/s eta 0:00:01\n",
      "   ---------------------------------- ----- 10.0/11.6 MB 3.5 MB/s eta 0:00:01\n",
      "   ---------------------------------- ----- 10.1/11.6 MB 3.5 MB/s eta 0:00:01\n",
      "   ----------------------------------- ---- 10.3/11.6 MB 3.5 MB/s eta 0:00:01\n",
      "   ----------------------------------- ---- 10.4/11.6 MB 3.5 MB/s eta 0:00:01\n",
      "   ------------------------------------ --- 10.5/11.6 MB 3.5 MB/s eta 0:00:01\n",
      "   ------------------------------------ --- 10.6/11.6 MB 3.6 MB/s eta 0:00:01\n",
      "   ------------------------------------ --- 10.7/11.6 MB 3.5 MB/s eta 0:00:01\n",
      "   ------------------------------------- -- 10.9/11.6 MB 3.5 MB/s eta 0:00:01\n",
      "   ------------------------------------- -- 11.0/11.6 MB 3.4 MB/s eta 0:00:01\n",
      "   -------------------------------------- - 11.1/11.6 MB 3.4 MB/s eta 0:00:01\n",
      "   -------------------------------------- - 11.2/11.6 MB 3.5 MB/s eta 0:00:01\n",
      "   ---------------------------------------  11.3/11.6 MB 3.4 MB/s eta 0:00:01\n",
      "   ---------------------------------------  11.4/11.6 MB 3.4 MB/s eta 0:00:01\n",
      "   ---------------------------------------  11.5/11.6 MB 3.3 MB/s eta 0:00:01\n",
      "   ---------------------------------------  11.5/11.6 MB 3.3 MB/s eta 0:00:01\n",
      "   ---------------------------------------  11.5/11.6 MB 3.3 MB/s eta 0:00:01\n",
      "   ---------------------------------------  11.5/11.6 MB 3.3 MB/s eta 0:00:01\n",
      "   ---------------------------------------  11.5/11.6 MB 3.3 MB/s eta 0:00:01\n",
      "   ---------------------------------------  11.5/11.6 MB 3.3 MB/s eta 0:00:01\n",
      "   ---------------------------------------  11.5/11.6 MB 3.3 MB/s eta 0:00:01\n",
      "   ---------------------------------------  11.5/11.6 MB 3.3 MB/s eta 0:00:01\n",
      "   ---------------------------------------  11.5/11.6 MB 3.3 MB/s eta 0:00:01\n",
      "   ---------------------------------------  11.5/11.6 MB 3.3 MB/s eta 0:00:01\n",
      "   ---------------------------------------  11.5/11.6 MB 3.3 MB/s eta 0:00:01\n",
      "   ---------------------------------------  11.5/11.6 MB 3.3 MB/s eta 0:00:01\n",
      "   ---------------------------------------  11.5/11.6 MB 3.3 MB/s eta 0:00:01\n",
      "   ---------------------------------------  11.5/11.6 MB 3.3 MB/s eta 0:00:01\n",
      "   ---------------------------------------  11.5/11.6 MB 3.3 MB/s eta 0:00:01\n",
      "   ---------------------------------------  11.5/11.6 MB 3.3 MB/s eta 0:00:01\n",
      "   ---------------------------------------  11.6/11.6 MB 2.7 MB/s eta 0:00:01\n",
      "   ---------------------------------------  11.6/11.6 MB 2.7 MB/s eta 0:00:01\n",
      "   ---------------------------------------  11.6/11.6 MB 2.7 MB/s eta 0:00:01\n",
      "   ---------------------------------------  11.6/11.6 MB 2.6 MB/s eta 0:00:01\n",
      "   ---------------------------------------  11.6/11.6 MB 2.6 MB/s eta 0:00:01\n",
      "   ---------------------------------------- 11.6/11.6 MB 2.6 MB/s eta 0:00:00\n",
      "Downloading pytz-2024.1-py2.py3-none-any.whl (505 kB)\n",
      "   ---------------------------------------- 0.0/505.5 kB ? eta -:--:--\n",
      "    --------------------------------------- 10.2/505.5 kB ? eta -:--:--\n",
      "    --------------------------------------- 10.2/505.5 kB ? eta -:--:--\n",
      "    --------------------------------------- 10.2/505.5 kB ? eta -:--:--\n",
      "   ------- ------------------------------- 92.2/505.5 kB 525.1 kB/s eta 0:00:01\n",
      "   ----------- -------------------------- 153.6/505.5 kB 657.6 kB/s eta 0:00:01\n",
      "   ---------------- --------------------- 225.3/505.5 kB 860.2 kB/s eta 0:00:01\n",
      "   ----------------------- -------------- 307.2/505.5 kB 999.9 kB/s eta 0:00:01\n",
      "   ----------------------------- ---------- 368.6/505.5 kB 1.1 MB/s eta 0:00:01\n",
      "   ------------------------------------- -- 471.0/505.5 kB 1.2 MB/s eta 0:00:01\n",
      "   ---------------------------------------- 505.5/505.5 kB 1.2 MB/s eta 0:00:00\n",
      "Downloading tzdata-2024.1-py2.py3-none-any.whl (345 kB)\n",
      "   ---------------------------------------- 0.0/345.4 kB ? eta -:--:--\n",
      "   ---------- ----------------------------- 92.2/345.4 kB 2.6 MB/s eta 0:00:01\n",
      "   -------------------- ------------------- 174.1/345.4 kB 2.1 MB/s eta 0:00:01\n",
      "   ----------------------------- ---------- 256.0/345.4 kB 2.0 MB/s eta 0:00:01\n",
      "   ------------------------------------ --- 317.4/345.4 kB 2.0 MB/s eta 0:00:01\n",
      "   ---------------------------------------- 345.4/345.4 kB 1.6 MB/s eta 0:00:00\n",
      "Installing collected packages: pytz, tzdata, pandas\n",
      "Successfully installed pandas-2.2.2 pytz-2024.1 tzdata-2024.1\n",
      "Note: you may need to restart the kernel to use updated packages.\n"
     ]
    }
   ],
   "source": [
    "pip install pandas"
   ]
  },
  {
   "cell_type": "code",
   "execution_count": 2,
   "metadata": {},
   "outputs": [],
   "source": [
    "import pandas"
   ]
  },
  {
   "cell_type": "code",
   "execution_count": 6,
   "metadata": {},
   "outputs": [
    {
     "name": "stdout",
     "output_type": "stream",
     "text": [
      "       cars  colors\n",
      "0     creta    blue\n",
      "1      audi  yellow\n",
      "2  mercedes     red\n"
     ]
    }
   ],
   "source": [
    "mydata={\n",
    "    'cars':['creta','audi','mercedes'],\n",
    "    'colors':['blue','yellow','red']\n",
    "}\n",
    "b=pandas.DataFrame(mydata)\n",
    "print(b)"
   ]
  },
  {
   "cell_type": "code",
   "execution_count": 7,
   "metadata": {},
   "outputs": [],
   "source": [
    "import pandas as pd"
   ]
  },
  {
   "cell_type": "code",
   "execution_count": 8,
   "metadata": {},
   "outputs": [
    {
     "name": "stdout",
     "output_type": "stream",
     "text": [
      "       cars  colors\n",
      "0     creta    blue\n",
      "1      audi  yellow\n",
      "2  mercedes     red\n"
     ]
    }
   ],
   "source": [
    "c=pd.DataFrame(mydata)\n",
    "print(c)"
   ]
  },
  {
   "cell_type": "code",
   "execution_count": 9,
   "metadata": {},
   "outputs": [
    {
     "data": {
      "text/plain": [
       "'2.2.2'"
      ]
     },
     "execution_count": 9,
     "metadata": {},
     "output_type": "execute_result"
    }
   ],
   "source": [
    "pd.__version__"
   ]
  },
  {
   "cell_type": "code",
   "execution_count": 33,
   "metadata": {},
   "outputs": [
    {
     "name": "stdout",
     "output_type": "stream",
     "text": [
      "0    2\n",
      "1    3\n",
      "2    4\n",
      "dtype: int64\n"
     ]
    }
   ],
   "source": [
    "#to get entire column(series)\n",
    "hhy=[1,2,3,4]\n",
    "v=pd.Series(hhy[1:4])\n",
    "print(v)"
   ]
  },
  {
   "cell_type": "code",
   "execution_count": 25,
   "metadata": {},
   "outputs": [
    {
     "name": "stdout",
     "output_type": "stream",
     "text": [
      "w    4\n",
      "dtype: int64\n"
     ]
    }
   ],
   "source": [
    "hhy=[1,2,3,4]\n",
    "v=pd.Series(hhy[3],index=['w'])\n",
    "print(v)"
   ]
  },
  {
   "cell_type": "code",
   "execution_count": 32,
   "metadata": {},
   "outputs": [
    {
     "name": "stdout",
     "output_type": "stream",
     "text": [
      "day1    100\n",
      "day2    200\n",
      "dtype: int64\n"
     ]
    }
   ],
   "source": [
    "#index is changed\n",
    "#given index to only day1 n day2\n",
    "calories={'day1':100,'day2':200,'day3':300}\n",
    "g=pd.Series(calories,index=['day1','day2'])\n",
    "print(g)"
   ]
  },
  {
   "cell_type": "code",
   "execution_count": 40,
   "metadata": {},
   "outputs": [
    {
     "name": "stdout",
     "output_type": "stream",
     "text": [
      "       name  age      place\n",
      "0      nida   19  nadapuram\n",
      "2      niha   20        kdy\n",
      "3  thesneem   20   thikkodi\n"
     ]
    }
   ],
   "source": [
    "#to print wanted details only\n",
    "#here prited details of person having age 19 and20\n",
    "import numpy\n",
    "import numpy as np\n",
    "person=pd.DataFrame({\n",
    "    'name':['nida','rifa','niha','thesneem'],\n",
    "    'age':[19,18,20,20],\n",
    "    'place':['nadapuram','kdy','kdy','thikkodi']\n",
    "})\n",
    "pp=np.array([19,20])\n",
    "cc=person[person['age'].isin(pp)]\n",
    "print(cc)"
   ]
  },
  {
   "cell_type": "code",
   "execution_count": 56,
   "metadata": {},
   "outputs": [
    {
     "name": "stdout",
     "output_type": "stream",
     "text": [
      "       name  age      place     sqrtt  square      sqrt   mean\n",
      "0      nida   19  nadapuram  4.358899     361  4.358899  19.25\n",
      "1      rifa   18        kdy  4.242641     324  4.242641  19.25\n",
      "2      niha   20        kdy  4.472136     400  4.472136  19.25\n",
      "3  thesneem   20   thikkodi  4.472136     400  4.472136  19.25\n"
     ]
    }
   ],
   "source": [
    "#ADD NEW ROW TO already exist dataset\n",
    "person['sqrtt']=np.sqrt(person['age'])\n",
    "person['square']=np.square(person['age'])\n",
    "person['mean']=np.mean(person['age'])\n",
    "print(person)\n",
    "\n"
   ]
  },
  {
   "cell_type": "code",
   "execution_count": 57,
   "metadata": {},
   "outputs": [
    {
     "name": "stdout",
     "output_type": "stream",
     "text": [
      "20\n"
     ]
    }
   ],
   "source": [
    "q=np.max(person['age'])\n",
    "print(q)"
   ]
  },
  {
   "cell_type": "code",
   "execution_count": 66,
   "metadata": {},
   "outputs": [
    {
     "name": "stdout",
     "output_type": "stream",
     "text": [
      "             age     sqrtt      square      sqrt   mean\n",
      "count   4.000000  4.000000    4.000000  4.000000   4.00\n",
      "mean   19.250000  4.386453  371.250000  4.386453  19.25\n",
      "std     0.957427  0.109734   36.472592  0.109734   0.00\n",
      "min    18.000000  4.242641  324.000000  4.242641  19.25\n",
      "25%    18.750000  4.329834  351.750000  4.329834  19.25\n",
      "50%    19.500000  4.415517  380.500000  4.415517  19.25\n",
      "75%    20.000000  4.472136  400.000000  4.472136  19.25\n",
      "max    20.000000  4.472136  400.000000  4.472136  19.25\n"
     ]
    }
   ],
   "source": [
    "r=person.describe()\n",
    "print(r)"
   ]
  },
  {
   "cell_type": "code",
   "execution_count": 67,
   "metadata": {},
   "outputs": [
    {
     "name": "stdout",
     "output_type": "stream",
     "text": [
      "0    19\n",
      "1    37\n",
      "2    57\n",
      "3    77\n",
      "Name: age, dtype: int64\n"
     ]
    }
   ],
   "source": [
    "t=np.cumsum(person['age'])\n",
    "print(t)"
   ]
  },
  {
   "cell_type": "code",
   "execution_count": 68,
   "metadata": {},
   "outputs": [
    {
     "name": "stdout",
     "output_type": "stream",
     "text": [
      "    name   age group\n",
      "0   john  34.0    a+\n",
      "1   joss  56.0    b+\n",
      "2  linta   NaN    a-\n",
      "3   hena   NaN    b-\n"
     ]
    }
   ],
   "source": [
    "person1=pd.DataFrame({\n",
    "    'name':['john','joss','linta','hena'],\n",
    "    'age':[34,56,np.nan,np.nan],\n",
    "    'group':['a+','b+','a-','b-']})\n",
    "print(person1)"
   ]
  },
  {
   "cell_type": "code",
   "execution_count": 87,
   "metadata": {},
   "outputs": [
    {
     "name": "stdout",
     "output_type": "stream",
     "text": [
      "    name   age group\n",
      "0   john  34.0    a+\n",
      "1   joss  56.0    b+\n",
      "2  linta  45.0    a-\n",
      "3   hena  45.0    b-\n"
     ]
    }
   ],
   "source": [
    "#to fill blank space\n",
    "ss=person1['age'].mean()\n",
    "person1['age']=person1['age'].fillna(ss)\n",
    "print(person1)"
   ]
  },
  {
   "cell_type": "code",
   "execution_count": 74,
   "metadata": {},
   "outputs": [
    {
     "name": "stdout",
     "output_type": "stream",
     "text": [
      "   name  age group\n",
      "0  rifa   23    a+\n",
      "1  rifa   23    a+\n",
      "2  nida   15    a-\n",
      "3  rida   45    b-\n"
     ]
    },
    {
     "data": {
      "text/html": [
       "<div>\n",
       "<style scoped>\n",
       "    .dataframe tbody tr th:only-of-type {\n",
       "        vertical-align: middle;\n",
       "    }\n",
       "\n",
       "    .dataframe tbody tr th {\n",
       "        vertical-align: top;\n",
       "    }\n",
       "\n",
       "    .dataframe thead th {\n",
       "        text-align: right;\n",
       "    }\n",
       "</style>\n",
       "<table border=\"1\" class=\"dataframe\">\n",
       "  <thead>\n",
       "    <tr style=\"text-align: right;\">\n",
       "      <th></th>\n",
       "      <th>name</th>\n",
       "      <th>age</th>\n",
       "      <th>group</th>\n",
       "    </tr>\n",
       "  </thead>\n",
       "  <tbody>\n",
       "    <tr>\n",
       "      <th>0</th>\n",
       "      <td>rifa</td>\n",
       "      <td>23</td>\n",
       "      <td>a+</td>\n",
       "    </tr>\n",
       "    <tr>\n",
       "      <th>2</th>\n",
       "      <td>nida</td>\n",
       "      <td>15</td>\n",
       "      <td>a-</td>\n",
       "    </tr>\n",
       "    <tr>\n",
       "      <th>3</th>\n",
       "      <td>rida</td>\n",
       "      <td>45</td>\n",
       "      <td>b-</td>\n",
       "    </tr>\n",
       "  </tbody>\n",
       "</table>\n",
       "</div>"
      ],
      "text/plain": [
       "   name  age group\n",
       "0  rifa   23    a+\n",
       "2  nida   15    a-\n",
       "3  rida   45    b-"
      ]
     },
     "execution_count": 74,
     "metadata": {},
     "output_type": "execute_result"
    }
   ],
   "source": [
    "#to remove duplicate row\n",
    "person2=pd.DataFrame({'name':['rifa','rifa','nida','rida'],'age':[23,23,15,45],'group':['a+','a+','a-','b-']})\n",
    "print(person2)\n",
    "person2.drop_duplicates()"
   ]
  },
  {
   "cell_type": "code",
   "execution_count": 84,
   "metadata": {},
   "outputs": [
    {
     "data": {
      "text/html": [
       "<div>\n",
       "<style scoped>\n",
       "    .dataframe tbody tr th:only-of-type {\n",
       "        vertical-align: middle;\n",
       "    }\n",
       "\n",
       "    .dataframe tbody tr th {\n",
       "        vertical-align: top;\n",
       "    }\n",
       "\n",
       "    .dataframe thead th {\n",
       "        text-align: right;\n",
       "    }\n",
       "</style>\n",
       "<table border=\"1\" class=\"dataframe\">\n",
       "  <thead>\n",
       "    <tr style=\"text-align: right;\">\n",
       "      <th></th>\n",
       "      <th>name</th>\n",
       "      <th>age</th>\n",
       "      <th>bgroup</th>\n",
       "    </tr>\n",
       "  </thead>\n",
       "  <tbody>\n",
       "    <tr>\n",
       "      <th>0</th>\n",
       "      <td>rifa</td>\n",
       "      <td>23</td>\n",
       "      <td>a+</td>\n",
       "    </tr>\n",
       "    <tr>\n",
       "      <th>1</th>\n",
       "      <td>rifa</td>\n",
       "      <td>23</td>\n",
       "      <td>a+</td>\n",
       "    </tr>\n",
       "    <tr>\n",
       "      <th>2</th>\n",
       "      <td>nida</td>\n",
       "      <td>15</td>\n",
       "      <td>a-</td>\n",
       "    </tr>\n",
       "    <tr>\n",
       "      <th>3</th>\n",
       "      <td>rida</td>\n",
       "      <td>45</td>\n",
       "      <td>b-</td>\n",
       "    </tr>\n",
       "  </tbody>\n",
       "</table>\n",
       "</div>"
      ],
      "text/plain": [
       "   name  age bgroup\n",
       "0  rifa   23     a+\n",
       "1  rifa   23     a+\n",
       "2  nida   15     a-\n",
       "3  rida   45     b-"
      ]
     },
     "execution_count": 84,
     "metadata": {},
     "output_type": "execute_result"
    }
   ],
   "source": [
    "person2.rename(columns={'group':'bgroup'})"
   ]
  },
  {
   "cell_type": "code",
   "execution_count": 86,
   "metadata": {},
   "outputs": [
    {
     "name": "stdout",
     "output_type": "stream",
     "text": [
      "    name   age group\n",
      "0   john  34.0    a+\n",
      "1   joss  56.0    b+\n",
      "2  linta   NaN    a-\n",
      "3   hena   NaN    b-\n"
     ]
    },
    {
     "data": {
      "text/html": [
       "<div>\n",
       "<style scoped>\n",
       "    .dataframe tbody tr th:only-of-type {\n",
       "        vertical-align: middle;\n",
       "    }\n",
       "\n",
       "    .dataframe tbody tr th {\n",
       "        vertical-align: top;\n",
       "    }\n",
       "\n",
       "    .dataframe thead th {\n",
       "        text-align: right;\n",
       "    }\n",
       "</style>\n",
       "<table border=\"1\" class=\"dataframe\">\n",
       "  <thead>\n",
       "    <tr style=\"text-align: right;\">\n",
       "      <th></th>\n",
       "      <th>name</th>\n",
       "      <th>age</th>\n",
       "      <th>group</th>\n",
       "    </tr>\n",
       "  </thead>\n",
       "  <tbody>\n",
       "    <tr>\n",
       "      <th>0</th>\n",
       "      <td>john</td>\n",
       "      <td>34.0</td>\n",
       "      <td>a+</td>\n",
       "    </tr>\n",
       "    <tr>\n",
       "      <th>1</th>\n",
       "      <td>joss</td>\n",
       "      <td>56.0</td>\n",
       "      <td>b+</td>\n",
       "    </tr>\n",
       "    <tr>\n",
       "      <th>2</th>\n",
       "      <td>linta</td>\n",
       "      <td>100.0</td>\n",
       "      <td>a-</td>\n",
       "    </tr>\n",
       "    <tr>\n",
       "      <th>3</th>\n",
       "      <td>hena</td>\n",
       "      <td>100.0</td>\n",
       "      <td>b-</td>\n",
       "    </tr>\n",
       "  </tbody>\n",
       "</table>\n",
       "</div>"
      ],
      "text/plain": [
       "    name    age group\n",
       "0   john   34.0    a+\n",
       "1   joss   56.0    b+\n",
       "2  linta  100.0    a-\n",
       "3   hena  100.0    b-"
      ]
     },
     "execution_count": 86,
     "metadata": {},
     "output_type": "execute_result"
    }
   ],
   "source": [
    "#replace null value with wanted number\n",
    "person1=pd.DataFrame({\n",
    "    'name':['john','joss','linta','hena'],\n",
    "    'age':[34,56,np.nan,np.nan],\n",
    "    'group':['a+','b+','a-','b-']})\n",
    "print(person1)\n",
    "person1.fillna(100)\n"
   ]
  },
  {
   "cell_type": "code",
   "execution_count": 93,
   "metadata": {},
   "outputs": [
    {
     "name": "stdout",
     "output_type": "stream",
     "text": [
      "            date time        date      time\n",
      "0 2024-01-07 11:00:00  2024-01-07  11:00:00\n",
      "1 2024-01-14 11:00:00  2024-01-14  11:00:00\n",
      "2 2024-01-21 11:00:00  2024-01-21  11:00:00\n",
      "3 2024-01-28 11:00:00  2024-01-28  11:00:00\n",
      "4 2024-02-04 11:00:00  2024-02-04  11:00:00\n",
      "5 2024-02-11 11:00:00  2024-02-11  11:00:00\n",
      "6 2024-02-18 11:00:00  2024-02-18  11:00:00\n",
      "7 2024-02-25 11:00:00  2024-02-25  11:00:00\n",
      "8 2024-03-03 11:00:00  2024-03-03  11:00:00\n",
      "9 2024-03-10 11:00:00  2024-03-10  11:00:00\n"
     ]
    },
    {
     "name": "stderr",
     "output_type": "stream",
     "text": [
      "C:\\Users\\HP\\AppData\\Local\\Temp\\ipykernel_12988\\3520847935.py:2: FutureWarning: 'w' is deprecated and will be removed in a future version, please use 'W' instead.\n",
      "  data1['date time']=pd.date_range('1/05/2024 11:00',periods=10,freq='w')\n"
     ]
    }
   ],
   "source": [
    "data1=pd.DataFrame()\n",
    "data1['date time']=pd.date_range('1/05/2024 11:00',periods=10,freq='w')\n",
    "data1['date']=data1['date time'].dt.date\n",
    "data1['time']=data1['date time'].dt.time\n",
    "print(data1)"
   ]
  },
  {
   "cell_type": "code",
   "execution_count": 96,
   "metadata": {},
   "outputs": [],
   "source": [
    "person1=pd.DataFrame({\n",
    "    'name':['john','joss','linta','hena'],\n",
    "    'age':[34,56,44,21],\n",
    "    'group':['a+','b+','a-','b-']})\n",
    "person1.to_csv('data.csv',index=False)\n"
   ]
  },
  {
   "cell_type": "code",
   "execution_count": 4,
   "metadata": {},
   "outputs": [
    {
     "name": "stdout",
     "output_type": "stream",
     "text": [
      "    name  age group\n",
      "0   john   34    a+\n",
      "1   joss   56    b+\n",
      "2  linta   44    a-\n",
      "3   hena   21    b-\n"
     ]
    }
   ],
   "source": [
    "#convert to excel\n",
    "import pandas as pd\n",
    "person1=pd.DataFrame({\n",
    "    'name':['john','joss','linta','hena'],\n",
    "    'age':[34,56,44,21],\n",
    "    'group':['a+','b+','a-','b-']})\n",
    "person1.to_excel('data.xlsx',index=False)\n",
    "print(person1.head())\n"
   ]
  },
  {
   "cell_type": "code",
   "execution_count": null,
   "metadata": {},
   "outputs": [],
   "source": [
    "#display first 5 columns\n",
    "person1=pd.DataFrame({\n",
    "    'name':['john','joss','linta','hena',],\n",
    "    'age':[34,56,44,21],\n",
    "    'group':['a+','b+','a-','b-']})\n",
    "print(person1.head())\n"
   ]
  },
  {
   "cell_type": "code",
   "execution_count": 5,
   "metadata": {},
   "outputs": [
    {
     "name": "stdout",
     "output_type": "stream",
     "text": [
      "    name  age group\n",
      "5  linta   55    b+\n",
      "6   hena    7    a-\n",
      "7   hena   22    b-\n",
      "8   joss    8    b+\n",
      "9   john   44    a-\n"
     ]
    }
   ],
   "source": [
    "#display last 5 columns\n",
    "person1=pd.DataFrame({\n",
    "    'name':['john','joss','linta','hena','joss','linta','hena','hena','joss','john'],\n",
    "    'age':[34,56,44,21,33,55,7,22,8,44],\n",
    "    'group':['a+','b+','a-','b-','a+','b+','a-','b-','b+','a-']})\n",
    "print(person1.tail())\n"
   ]
  },
  {
   "cell_type": "code",
   "execution_count": 99,
   "metadata": {},
   "outputs": [
    {
     "name": "stdout",
     "output_type": "stream",
     "text": [
      "Collecting openpyxl\n",
      "  Downloading openpyxl-3.1.2-py2.py3-none-any.whl.metadata (2.5 kB)\n",
      "Collecting et-xmlfile (from openpyxl)\n",
      "  Downloading et_xmlfile-1.1.0-py3-none-any.whl.metadata (1.8 kB)\n",
      "Downloading openpyxl-3.1.2-py2.py3-none-any.whl (249 kB)\n",
      "   ---------------------------------------- 0.0/250.0 kB ? eta -:--:--\n",
      "   - -------------------------------------- 10.2/250.0 kB ? eta -:--:--\n",
      "   --------- ------------------------------ 61.4/250.0 kB 1.1 MB/s eta 0:00:01\n",
      "   ------------------ --------------------- 112.6/250.0 kB 1.3 MB/s eta 0:00:01\n",
      "   ---------------------------------------- 250.0/250.0 kB 1.7 MB/s eta 0:00:00\n",
      "Downloading et_xmlfile-1.1.0-py3-none-any.whl (4.7 kB)\n",
      "Installing collected packages: et-xmlfile, openpyxl\n",
      "Successfully installed et-xmlfile-1.1.0 openpyxl-3.1.2\n",
      "Note: you may need to restart the kernel to use updated packages.\n"
     ]
    }
   ],
   "source": [
    "pip install openpyxl"
   ]
  },
  {
   "cell_type": "code",
   "execution_count": 6,
   "metadata": {},
   "outputs": [
    {
     "name": "stdout",
     "output_type": "stream",
     "text": [
      "<class 'pandas.core.frame.DataFrame'>\n",
      "RangeIndex: 10 entries, 0 to 9\n",
      "Data columns (total 3 columns):\n",
      " #   Column  Non-Null Count  Dtype \n",
      "---  ------  --------------  ----- \n",
      " 0   name    10 non-null     object\n",
      " 1   age     10 non-null     int64 \n",
      " 2   group   10 non-null     object\n",
      "dtypes: int64(1), object(2)\n",
      "memory usage: 372.0+ bytes\n",
      "None\n"
     ]
    }
   ],
   "source": [
    "person1=pd.DataFrame({\n",
    "    'name':['john','joss','linta','hena','joss','linta','hena','hena','joss','john'],\n",
    "    'age':[34,56,44,21,33,55,7,22,8,44],\n",
    "    'group':['a+','b+','a-','b-','a+','b+','a-','b-','b+','a-']})\n",
    "print(person1.info())\n"
   ]
  },
  {
   "cell_type": "code",
   "execution_count": 16,
   "metadata": {},
   "outputs": [
    {
     "name": "stdout",
     "output_type": "stream",
     "text": [
      "   name   age group\n",
      "0  john  34.0    a+\n",
      "1  joss  56.0    b+\n"
     ]
    }
   ],
   "source": [
    "import numpy as np\n",
    "person1=pd.DataFrame({\n",
    "    'name':['john','joss','linta','hena'],\n",
    "    'age':[34,56,np.nan,np.nan],\n",
    "    'group':['a+','b+','a-','b-']})\n",
    "per=person1.dropna()\n",
    "print(per.to_string())\n"
   ]
  }
 ],
 "metadata": {
  "kernelspec": {
   "display_name": "Python 3",
   "language": "python",
   "name": "python3"
  },
  "language_info": {
   "codemirror_mode": {
    "name": "ipython",
    "version": 3
   },
   "file_extension": ".py",
   "mimetype": "text/x-python",
   "name": "python",
   "nbconvert_exporter": "python",
   "pygments_lexer": "ipython3",
   "version": "3.11.9"
  }
 },
 "nbformat": 4,
 "nbformat_minor": 2
}
